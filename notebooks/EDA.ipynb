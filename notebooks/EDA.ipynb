{
 "cells": [
  {
   "cell_type": "code",
   "execution_count": 143,
   "metadata": {},
   "outputs": [],
   "source": [
    "import pandas as pd\n",
    "import seaborn as sns\n",
    "from collections import OrderedDict\n",
    "\n"
   ]
  },
  {
   "cell_type": "code",
   "execution_count": 144,
   "metadata": {},
   "outputs": [
    {
     "ename": "FileNotFoundError",
     "evalue": "[Errno 2] File ../data/processed/2020_03_29/United_States_county.csv does not exist: '../data/processed/2020_03_29/United_States_county.csv'",
     "output_type": "error",
     "traceback": [
      "\u001b[0;31m---------------------------------------------------------------------------\u001b[0m",
      "\u001b[0;31mFileNotFoundError\u001b[0m                         Traceback (most recent call last)",
      "\u001b[0;32m<ipython-input-144-9bff335d773a>\u001b[0m in \u001b[0;36m<module>\u001b[0;34m\u001b[0m\n\u001b[0;32m----> 1\u001b[0;31m \u001b[0mdf\u001b[0m \u001b[0;34m=\u001b[0m \u001b[0mpd\u001b[0m\u001b[0;34m.\u001b[0m\u001b[0mread_csv\u001b[0m\u001b[0;34m(\u001b[0m\u001b[0;34m\"../data/processed/2020_03_29/United_States_county.csv\"\u001b[0m\u001b[0;34m)\u001b[0m\u001b[0;34m\u001b[0m\u001b[0;34m\u001b[0m\u001b[0m\n\u001b[0m",
      "\u001b[0;32m~/anaconda3/envs/covid-env/lib/python3.8/site-packages/pandas/io/parsers.py\u001b[0m in \u001b[0;36mparser_f\u001b[0;34m(filepath_or_buffer, sep, delimiter, header, names, index_col, usecols, squeeze, prefix, mangle_dupe_cols, dtype, engine, converters, true_values, false_values, skipinitialspace, skiprows, skipfooter, nrows, na_values, keep_default_na, na_filter, verbose, skip_blank_lines, parse_dates, infer_datetime_format, keep_date_col, date_parser, dayfirst, cache_dates, iterator, chunksize, compression, thousands, decimal, lineterminator, quotechar, quoting, doublequote, escapechar, comment, encoding, dialect, error_bad_lines, warn_bad_lines, delim_whitespace, low_memory, memory_map, float_precision)\u001b[0m\n\u001b[1;32m    674\u001b[0m         )\n\u001b[1;32m    675\u001b[0m \u001b[0;34m\u001b[0m\u001b[0m\n\u001b[0;32m--> 676\u001b[0;31m         \u001b[0;32mreturn\u001b[0m \u001b[0m_read\u001b[0m\u001b[0;34m(\u001b[0m\u001b[0mfilepath_or_buffer\u001b[0m\u001b[0;34m,\u001b[0m \u001b[0mkwds\u001b[0m\u001b[0;34m)\u001b[0m\u001b[0;34m\u001b[0m\u001b[0;34m\u001b[0m\u001b[0m\n\u001b[0m\u001b[1;32m    677\u001b[0m \u001b[0;34m\u001b[0m\u001b[0m\n\u001b[1;32m    678\u001b[0m     \u001b[0mparser_f\u001b[0m\u001b[0;34m.\u001b[0m\u001b[0m__name__\u001b[0m \u001b[0;34m=\u001b[0m \u001b[0mname\u001b[0m\u001b[0;34m\u001b[0m\u001b[0;34m\u001b[0m\u001b[0m\n",
      "\u001b[0;32m~/anaconda3/envs/covid-env/lib/python3.8/site-packages/pandas/io/parsers.py\u001b[0m in \u001b[0;36m_read\u001b[0;34m(filepath_or_buffer, kwds)\u001b[0m\n\u001b[1;32m    446\u001b[0m \u001b[0;34m\u001b[0m\u001b[0m\n\u001b[1;32m    447\u001b[0m     \u001b[0;31m# Create the parser.\u001b[0m\u001b[0;34m\u001b[0m\u001b[0;34m\u001b[0m\u001b[0;34m\u001b[0m\u001b[0m\n\u001b[0;32m--> 448\u001b[0;31m     \u001b[0mparser\u001b[0m \u001b[0;34m=\u001b[0m \u001b[0mTextFileReader\u001b[0m\u001b[0;34m(\u001b[0m\u001b[0mfp_or_buf\u001b[0m\u001b[0;34m,\u001b[0m \u001b[0;34m**\u001b[0m\u001b[0mkwds\u001b[0m\u001b[0;34m)\u001b[0m\u001b[0;34m\u001b[0m\u001b[0;34m\u001b[0m\u001b[0m\n\u001b[0m\u001b[1;32m    449\u001b[0m \u001b[0;34m\u001b[0m\u001b[0m\n\u001b[1;32m    450\u001b[0m     \u001b[0;32mif\u001b[0m \u001b[0mchunksize\u001b[0m \u001b[0;32mor\u001b[0m \u001b[0miterator\u001b[0m\u001b[0;34m:\u001b[0m\u001b[0;34m\u001b[0m\u001b[0;34m\u001b[0m\u001b[0m\n",
      "\u001b[0;32m~/anaconda3/envs/covid-env/lib/python3.8/site-packages/pandas/io/parsers.py\u001b[0m in \u001b[0;36m__init__\u001b[0;34m(self, f, engine, **kwds)\u001b[0m\n\u001b[1;32m    878\u001b[0m             \u001b[0mself\u001b[0m\u001b[0;34m.\u001b[0m\u001b[0moptions\u001b[0m\u001b[0;34m[\u001b[0m\u001b[0;34m\"has_index_names\"\u001b[0m\u001b[0;34m]\u001b[0m \u001b[0;34m=\u001b[0m \u001b[0mkwds\u001b[0m\u001b[0;34m[\u001b[0m\u001b[0;34m\"has_index_names\"\u001b[0m\u001b[0;34m]\u001b[0m\u001b[0;34m\u001b[0m\u001b[0;34m\u001b[0m\u001b[0m\n\u001b[1;32m    879\u001b[0m \u001b[0;34m\u001b[0m\u001b[0m\n\u001b[0;32m--> 880\u001b[0;31m         \u001b[0mself\u001b[0m\u001b[0;34m.\u001b[0m\u001b[0m_make_engine\u001b[0m\u001b[0;34m(\u001b[0m\u001b[0mself\u001b[0m\u001b[0;34m.\u001b[0m\u001b[0mengine\u001b[0m\u001b[0;34m)\u001b[0m\u001b[0;34m\u001b[0m\u001b[0;34m\u001b[0m\u001b[0m\n\u001b[0m\u001b[1;32m    881\u001b[0m \u001b[0;34m\u001b[0m\u001b[0m\n\u001b[1;32m    882\u001b[0m     \u001b[0;32mdef\u001b[0m \u001b[0mclose\u001b[0m\u001b[0;34m(\u001b[0m\u001b[0mself\u001b[0m\u001b[0;34m)\u001b[0m\u001b[0;34m:\u001b[0m\u001b[0;34m\u001b[0m\u001b[0;34m\u001b[0m\u001b[0m\n",
      "\u001b[0;32m~/anaconda3/envs/covid-env/lib/python3.8/site-packages/pandas/io/parsers.py\u001b[0m in \u001b[0;36m_make_engine\u001b[0;34m(self, engine)\u001b[0m\n\u001b[1;32m   1112\u001b[0m     \u001b[0;32mdef\u001b[0m \u001b[0m_make_engine\u001b[0m\u001b[0;34m(\u001b[0m\u001b[0mself\u001b[0m\u001b[0;34m,\u001b[0m \u001b[0mengine\u001b[0m\u001b[0;34m=\u001b[0m\u001b[0;34m\"c\"\u001b[0m\u001b[0;34m)\u001b[0m\u001b[0;34m:\u001b[0m\u001b[0;34m\u001b[0m\u001b[0;34m\u001b[0m\u001b[0m\n\u001b[1;32m   1113\u001b[0m         \u001b[0;32mif\u001b[0m \u001b[0mengine\u001b[0m \u001b[0;34m==\u001b[0m \u001b[0;34m\"c\"\u001b[0m\u001b[0;34m:\u001b[0m\u001b[0;34m\u001b[0m\u001b[0;34m\u001b[0m\u001b[0m\n\u001b[0;32m-> 1114\u001b[0;31m             \u001b[0mself\u001b[0m\u001b[0;34m.\u001b[0m\u001b[0m_engine\u001b[0m \u001b[0;34m=\u001b[0m \u001b[0mCParserWrapper\u001b[0m\u001b[0;34m(\u001b[0m\u001b[0mself\u001b[0m\u001b[0;34m.\u001b[0m\u001b[0mf\u001b[0m\u001b[0;34m,\u001b[0m \u001b[0;34m**\u001b[0m\u001b[0mself\u001b[0m\u001b[0;34m.\u001b[0m\u001b[0moptions\u001b[0m\u001b[0;34m)\u001b[0m\u001b[0;34m\u001b[0m\u001b[0;34m\u001b[0m\u001b[0m\n\u001b[0m\u001b[1;32m   1115\u001b[0m         \u001b[0;32melse\u001b[0m\u001b[0;34m:\u001b[0m\u001b[0;34m\u001b[0m\u001b[0;34m\u001b[0m\u001b[0m\n\u001b[1;32m   1116\u001b[0m             \u001b[0;32mif\u001b[0m \u001b[0mengine\u001b[0m \u001b[0;34m==\u001b[0m \u001b[0;34m\"python\"\u001b[0m\u001b[0;34m:\u001b[0m\u001b[0;34m\u001b[0m\u001b[0;34m\u001b[0m\u001b[0m\n",
      "\u001b[0;32m~/anaconda3/envs/covid-env/lib/python3.8/site-packages/pandas/io/parsers.py\u001b[0m in \u001b[0;36m__init__\u001b[0;34m(self, src, **kwds)\u001b[0m\n\u001b[1;32m   1889\u001b[0m         \u001b[0mkwds\u001b[0m\u001b[0;34m[\u001b[0m\u001b[0;34m\"usecols\"\u001b[0m\u001b[0;34m]\u001b[0m \u001b[0;34m=\u001b[0m \u001b[0mself\u001b[0m\u001b[0;34m.\u001b[0m\u001b[0musecols\u001b[0m\u001b[0;34m\u001b[0m\u001b[0;34m\u001b[0m\u001b[0m\n\u001b[1;32m   1890\u001b[0m \u001b[0;34m\u001b[0m\u001b[0m\n\u001b[0;32m-> 1891\u001b[0;31m         \u001b[0mself\u001b[0m\u001b[0;34m.\u001b[0m\u001b[0m_reader\u001b[0m \u001b[0;34m=\u001b[0m \u001b[0mparsers\u001b[0m\u001b[0;34m.\u001b[0m\u001b[0mTextReader\u001b[0m\u001b[0;34m(\u001b[0m\u001b[0msrc\u001b[0m\u001b[0;34m,\u001b[0m \u001b[0;34m**\u001b[0m\u001b[0mkwds\u001b[0m\u001b[0;34m)\u001b[0m\u001b[0;34m\u001b[0m\u001b[0;34m\u001b[0m\u001b[0m\n\u001b[0m\u001b[1;32m   1892\u001b[0m         \u001b[0mself\u001b[0m\u001b[0;34m.\u001b[0m\u001b[0munnamed_cols\u001b[0m \u001b[0;34m=\u001b[0m \u001b[0mself\u001b[0m\u001b[0;34m.\u001b[0m\u001b[0m_reader\u001b[0m\u001b[0;34m.\u001b[0m\u001b[0munnamed_cols\u001b[0m\u001b[0;34m\u001b[0m\u001b[0;34m\u001b[0m\u001b[0m\n\u001b[1;32m   1893\u001b[0m \u001b[0;34m\u001b[0m\u001b[0m\n",
      "\u001b[0;32mpandas/_libs/parsers.pyx\u001b[0m in \u001b[0;36mpandas._libs.parsers.TextReader.__cinit__\u001b[0;34m()\u001b[0m\n",
      "\u001b[0;32mpandas/_libs/parsers.pyx\u001b[0m in \u001b[0;36mpandas._libs.parsers.TextReader._setup_parser_source\u001b[0;34m()\u001b[0m\n",
      "\u001b[0;31mFileNotFoundError\u001b[0m: [Errno 2] File ../data/processed/2020_03_29/United_States_county.csv does not exist: '../data/processed/2020_03_29/United_States_county.csv'"
     ]
    }
   ],
   "source": [
    "df = pd.read_csv(\"../data/processed/2020_03_29/United_States_county.csv\")\n"
   ]
  },
  {
   "cell_type": "code",
   "execution_count": 146,
   "metadata": {},
   "outputs": [
    {
     "data": {
      "text/plain": [
       "Region                  object\n",
       "Retail & recreation    float64\n",
       "Grocery & pharmacy     float64\n",
       "Parks                  float64\n",
       "Transit stations       float64\n",
       "Workplaces             float64\n",
       "Residential            float64\n",
       "State                   object\n",
       "total                  float64\n",
       "dtype: object"
      ]
     },
     "execution_count": 146,
     "metadata": {},
     "output_type": "execute_result"
    }
   ],
   "source": [
    "df.dtypes\n"
   ]
  },
  {
   "cell_type": "markdown",
   "metadata": {},
   "source": [
    "### Create a 'Total' Column"
   ]
  },
  {
   "cell_type": "code",
   "execution_count": 147,
   "metadata": {},
   "outputs": [
    {
     "data": {
      "text/plain": [
       "0       400\n",
       "1       300\n",
       "2       400\n",
       "3       400\n",
       "4       400\n",
       "       ... \n",
       "2805    300\n",
       "2806    300\n",
       "2807    300\n",
       "2808    300\n",
       "2809    400\n",
       "Length: 2810, dtype: int64"
      ]
     },
     "execution_count": 147,
     "metadata": {},
     "output_type": "execute_result"
    }
   ],
   "source": [
    "num_values = 100*(6-df[['Retail & recreation','Grocery & pharmacy','Parks','Transit stations','Workplaces','Residential']].isnull().sum(axis=1))\n",
    "df['total']=(df.sum(1,skipna=True)/num_values)\n",
    "num_values"
   ]
  },
  {
   "cell_type": "markdown",
   "metadata": {},
   "source": [
    "### Create a descriptive stats summary table"
   ]
  },
  {
   "cell_type": "code",
   "execution_count": 152,
   "metadata": {},
   "outputs": [],
   "source": [
    "def summary_stats(df, state = True, ):\n",
    "    \"\"\"\n",
    "    Creates summary stats for df.\n",
    "    \n",
    "    inputs:\n",
    "        df : df, containing mobility data \n",
    "        state : boolean, default = True, True if working with df containing sub regions (provinces, states, etc)\n",
    "                                    False if working with super regions (countries)\n",
    "    \n",
    "    outputs:\n",
    "        df containg summary statisitics \n",
    "        \n",
    "    \"\"\"\n",
    "    sum_data = OrderedDict()\n",
    "    categories=[i for i in df.columns]\n",
    "\n",
    "    if state == True: \n",
    "        for col in categories:\n",
    "            if df.dtypes[col]=='float64':\n",
    "                mean = df[col].mean()\n",
    "                median = df[col].median()\n",
    "                std = df[col].std()\n",
    "                maxim = (df[['State','Region',col]].loc[df[col]== df[col].max()])\n",
    "                minin = df[['State','Region',col]].loc[df[col]==df[col].min()]\n",
    "#                 maxim = (df[['State','Region']].loc[df[col]== df[col].max()])+': '+str(df[col].max())\n",
    "#                 minin = df[['State','Region']].loc[df[col]==df[col].min()]+': '+str(df[col].min())\n",
    "\n",
    "\n",
    "                sum_data[col]=sum_data.get(col,[])+[mean, median, std, maxim, minin]\n",
    "    else:\n",
    "        for col in categories:\n",
    "            if df.dtypes[col]=='float64':\n",
    "                mean = df[col].mean()\n",
    "                median = df[col].median()\n",
    "                std = df[col].std()\n",
    "                maxim = (df['Region'].loc[df[col].max()])+': '+str(df[col].max())\n",
    "                minin = df['Region'].loc[df[col]==df[col].min()]+': '+str(df[col].min())\n",
    "\n",
    "\n",
    "                sum_data[col]=sum_data.get(col,[])+[mean, median, std, maxim, minin]\n",
    "\n",
    "    df_2 =pd.DataFrame(sum_data)\n",
    "    stats=['mean', 'median', 'std', 'max', 'min']\n",
    "    df_2.index = stats\n",
    "    return df_2\n",
    "\n"
   ]
  },
  {
   "cell_type": "code",
   "execution_count": 153,
   "metadata": {},
   "outputs": [
    {
     "data": {
      "text/html": [
       "<div>\n",
       "<style scoped>\n",
       "    .dataframe tbody tr th:only-of-type {\n",
       "        vertical-align: middle;\n",
       "    }\n",
       "\n",
       "    .dataframe tbody tr th {\n",
       "        vertical-align: top;\n",
       "    }\n",
       "\n",
       "    .dataframe thead th {\n",
       "        text-align: right;\n",
       "    }\n",
       "</style>\n",
       "<table border=\"1\" class=\"dataframe\">\n",
       "  <thead>\n",
       "    <tr style=\"text-align: right;\">\n",
       "      <th></th>\n",
       "      <th>Retail &amp; recreation</th>\n",
       "      <th>Grocery &amp; pharmacy</th>\n",
       "      <th>Parks</th>\n",
       "      <th>Transit stations</th>\n",
       "      <th>Workplaces</th>\n",
       "      <th>Residential</th>\n",
       "      <th>total</th>\n",
       "    </tr>\n",
       "  </thead>\n",
       "  <tbody>\n",
       "    <tr>\n",
       "      <th>mean</th>\n",
       "      <td>-37.5904</td>\n",
       "      <td>-15.9872</td>\n",
       "      <td>-16.3728</td>\n",
       "      <td>-4.96491</td>\n",
       "      <td>-30.8457</td>\n",
       "      <td>10.7539</td>\n",
       "      <td>-0.218252</td>\n",
       "    </tr>\n",
       "    <tr>\n",
       "      <th>median</th>\n",
       "      <td>-38</td>\n",
       "      <td>-16</td>\n",
       "      <td>-31</td>\n",
       "      <td>-6</td>\n",
       "      <td>-31</td>\n",
       "      <td>12</td>\n",
       "      <td>-0.207687</td>\n",
       "    </tr>\n",
       "    <tr>\n",
       "      <th>std</th>\n",
       "      <td>17.9528</td>\n",
       "      <td>15.9893</td>\n",
       "      <td>38.6974</td>\n",
       "      <td>9.97312</td>\n",
       "      <td>8.91746</td>\n",
       "      <td>10.095</td>\n",
       "      <td>0.116647</td>\n",
       "    </tr>\n",
       "    <tr>\n",
       "      <th>max</th>\n",
       "      <td>State         Region  Retail &amp; recreatio...</td>\n",
       "      <td>State         Region  Grocery &amp; pharm...</td>\n",
       "      <td>State       Region  Parks\n",
       "1942  Misso...</td>\n",
       "      <td>State           Region  Transit sta...</td>\n",
       "      <td>State         Region  Workplaces\n",
       "2006...</td>\n",
       "      <td>State             Region  Residential\n",
       "...</td>\n",
       "      <td>State         Region     total\n",
       "1434  Tex...</td>\n",
       "    </tr>\n",
       "    <tr>\n",
       "      <th>min</th>\n",
       "      <td>State              Region  Retail &amp; re...</td>\n",
       "      <td>State         Region  Grocery &amp; pharma...</td>\n",
       "      <td>State        Region  Parks\n",
       "892  Colora...</td>\n",
       "      <td>State                Regi...</td>\n",
       "      <td>State         Region  Workplaces\n",
       "2139  Ut...</td>\n",
       "      <td>State                    Region  ...</td>\n",
       "      <td>State        Region     total\n",
       "892  Col...</td>\n",
       "    </tr>\n",
       "  </tbody>\n",
       "</table>\n",
       "</div>"
      ],
      "text/plain": [
       "                                      Retail & recreation  \\\n",
       "mean                                             -37.5904   \n",
       "median                                                -38   \n",
       "std                                               17.9528   \n",
       "max           State         Region  Retail & recreatio...   \n",
       "min             State              Region  Retail & re...   \n",
       "\n",
       "                                       Grocery & pharmacy  \\\n",
       "mean                                             -15.9872   \n",
       "median                                                -16   \n",
       "std                                               15.9893   \n",
       "max              State         Region  Grocery & pharm...   \n",
       "min             State         Region  Grocery & pharma...   \n",
       "\n",
       "                                                    Parks  \\\n",
       "mean                                             -16.3728   \n",
       "median                                                -31   \n",
       "std                                               38.6974   \n",
       "max              State       Region  Parks\n",
       "1942  Misso...   \n",
       "min             State        Region  Parks\n",
       "892  Colora...   \n",
       "\n",
       "                                         Transit stations  \\\n",
       "mean                                             -4.96491   \n",
       "median                                                 -6   \n",
       "std                                               9.97312   \n",
       "max                State           Region  Transit sta...   \n",
       "min                          State                Regi...   \n",
       "\n",
       "                                               Workplaces  \\\n",
       "mean                                             -30.8457   \n",
       "median                                                -31   \n",
       "std                                               8.91746   \n",
       "max              State         Region  Workplaces\n",
       "2006...   \n",
       "min          State         Region  Workplaces\n",
       "2139  Ut...   \n",
       "\n",
       "                                              Residential  \\\n",
       "mean                                              10.7539   \n",
       "median                                                 12   \n",
       "std                                                10.095   \n",
       "max             State             Region  Residential\n",
       "...   \n",
       "min                  State                    Region  ...   \n",
       "\n",
       "                                                    total  \n",
       "mean                                            -0.218252  \n",
       "median                                          -0.207687  \n",
       "std                                              0.116647  \n",
       "max           State         Region     total\n",
       "1434  Tex...  \n",
       "min             State        Region     total\n",
       "892  Col...  "
      ]
     },
     "execution_count": 153,
     "metadata": {},
     "output_type": "execute_result"
    }
   ],
   "source": [
    "sum_df = summary_stats(df)\n",
    "sum_df.head()\n"
   ]
  },
  {
   "cell_type": "code",
   "execution_count": null,
   "metadata": {},
   "outputs": [],
   "source": [
    "\n"
   ]
  },
  {
   "cell_type": "code",
   "execution_count": null,
   "metadata": {},
   "outputs": [],
   "source": [
    "\n"
   ]
  }
 ],
 "metadata": {
  "kernelspec": {
   "display_name": "Python (covid-env)",
   "language": "python",
   "name": "covid-env"
  },
  "language_info": {
   "codemirror_mode": {
    "name": "ipython",
    "version": 3
   },
   "file_extension": ".py",
   "mimetype": "text/x-python",
   "name": "python",
   "nbconvert_exporter": "python",
   "pygments_lexer": "ipython3",
   "version": "3.8.2"
  }
 },
 "nbformat": 4,
 "nbformat_minor": 2
}
