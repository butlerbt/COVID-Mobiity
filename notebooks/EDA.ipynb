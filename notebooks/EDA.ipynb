{
 "cells": [
  {
   "cell_type": "code",
   "execution_count": null,
   "metadata": {},
   "outputs": [],
   "source": [
    "import pandas as pd\n",
    "import seaborn as sns\n",
    "from collections import OrderedDict\n",
    "\n"
   ]
  },
  {
   "cell_type": "code",
   "execution_count": null,
   "metadata": {},
   "outputs": [],
   "source": [
    "df = pd.read_csv(\"../data/processed/2020_03_29/United_States_county.csv\")"
   ]
  },
  {
   "cell_type": "code",
   "execution_count": 10,
   "metadata": {},
   "outputs": [
    {
     "data": {
      "text/plain": [
       "Region                  object\n",
       "Retail & recreation    float64\n",
       "Grocery & pharmacy     float64\n",
       "Parks                  float64\n",
       "Transit stations       float64\n",
       "Workplaces             float64\n",
       "Residential            float64\n",
       "State                   object\n",
       "dtype: object"
      ]
     },
     "execution_count": 10,
     "metadata": {},
     "output_type": "execute_result"
    }
   ],
   "source": [
    "df.dtypes"
   ]
  },
  {
   "cell_type": "markdown",
   "metadata": {},
   "source": [
    "### Create a 'Total' Column"
   ]
  },
  {
   "cell_type": "code",
   "execution_count": 11,
   "metadata": {},
   "outputs": [],
   "source": [
    "df['total']=df.sum(1,skipna=True)"
   ]
  },
  {
   "cell_type": "markdown",
   "metadata": {},
   "source": [
    "### Create a descriptive stats summary table"
   ]
  },
  {
   "cell_type": "code",
   "execution_count": 7,
   "metadata": {},
   "outputs": [],
   "source": [
    "def summary_stats(df, state = True, ):\n",
    "    \"\"\"\n",
    "    Creates summary stats for df.\n",
    "    \n",
    "    inputs:\n",
    "        df : df, containing mobility data \n",
    "        state : boolean, default = True, True if working with df containing sub regions (provinces, states, etc)\n",
    "                                    False if working with super regions (countries)\n",
    "    \n",
    "    outputs:\n",
    "        df containg summary statisitics \n",
    "        \n",
    "    \"\"\"\n",
    "    sum_data = OrderedDict()\n",
    "    categories=[i for i in df.columns]\n",
    "\n",
    "    if state == True: \n",
    "        for col in categories:\n",
    "            if df.dtypes[col]=='float64':\n",
    "                mean = df[col].mean()\n",
    "                median = df[col].median()\n",
    "                maxim = (df[['State','Region']].loc[df[col].max()])+': '+str(df[col].max())\n",
    "                minin = df[['State','Region']].loc[df[col]==df[col].min()]+': '+str(df[col].min())\n",
    "\n",
    "\n",
    "                sum_data[col]=sum_data.get(col,[])+[mean, median, maxim, minin]\n",
    "    else:\n",
    "        for col in categories:\n",
    "            if df.dtypes[col]=='float64':\n",
    "                mean = df[col].mean()\n",
    "                median = df[col].median()\n",
    "                maxim = (df['Region'].loc[df[col].max()])+': '+str(df[col].max())\n",
    "                minin = df['Region'].loc[df[col]==df[col].min()]+': '+str(df[col].min())\n",
    "\n",
    "\n",
    "                sum_data[col]=sum_data.get(col,[])+[mean, median, maxim, minin]\n",
    "\n",
    "    df_2 =pd.DataFrame(sum_data)\n",
    "    stats=['mean', 'median', 'max', 'min']\n",
    "    df_2.index = stats\n",
    "    return df_2\n",
    "\n"
   ]
  },
  {
   "cell_type": "code",
   "execution_count": 12,
   "metadata": {},
   "outputs": [
    {
     "data": {
      "text/html": [
       "<div>\n",
       "<style scoped>\n",
       "    .dataframe tbody tr th:only-of-type {\n",
       "        vertical-align: middle;\n",
       "    }\n",
       "\n",
       "    .dataframe tbody tr th {\n",
       "        vertical-align: top;\n",
       "    }\n",
       "\n",
       "    .dataframe thead th {\n",
       "        text-align: right;\n",
       "    }\n",
       "</style>\n",
       "<table border=\"1\" class=\"dataframe\">\n",
       "  <thead>\n",
       "    <tr style=\"text-align: right;\">\n",
       "      <th></th>\n",
       "      <th>Retail &amp; recreation</th>\n",
       "      <th>Grocery &amp; pharmacy</th>\n",
       "      <th>Parks</th>\n",
       "      <th>Transit stations</th>\n",
       "      <th>Workplaces</th>\n",
       "      <th>Residential</th>\n",
       "      <th>total</th>\n",
       "    </tr>\n",
       "  </thead>\n",
       "  <tbody>\n",
       "    <tr>\n",
       "      <th>mean</th>\n",
       "      <td>-37.5904</td>\n",
       "      <td>-15.9872</td>\n",
       "      <td>-16.3728</td>\n",
       "      <td>-4.96491</td>\n",
       "      <td>-30.8457</td>\n",
       "      <td>10.7539</td>\n",
       "      <td>-82.1036</td>\n",
       "    </tr>\n",
       "    <tr>\n",
       "      <th>median</th>\n",
       "      <td>-38</td>\n",
       "      <td>-16</td>\n",
       "      <td>-31</td>\n",
       "      <td>-6</td>\n",
       "      <td>-31</td>\n",
       "      <td>12</td>\n",
       "      <td>-79</td>\n",
       "    </tr>\n",
       "    <tr>\n",
       "      <th>max</th>\n",
       "      <td>State        South Carolina: 133.0\n",
       "Region    O...</td>\n",
       "      <td>State     South Carolina: 128.0\n",
       "Region     Mar...</td>\n",
       "      <td>State           Georgia: 214.0\n",
       "Region    Gordo...</td>\n",
       "      <td>State         Illinois: 9.0\n",
       "Region    Clark Co...</td>\n",
       "      <td>State         Illinois: 3.0\n",
       "Region    Boone Co...</td>\n",
       "      <td>State           Illinois: 30.0\n",
       "Region    Hanco...</td>\n",
       "      <td>State         South Carolina: 137.0\n",
       "Region    ...</td>\n",
       "    </tr>\n",
       "    <tr>\n",
       "      <th>min</th>\n",
       "      <td>State                     Regio...</td>\n",
       "      <td>State                Region\n",
       "919...</td>\n",
       "      <td>State               Region\n",
       "892 ...</td>\n",
       "      <td>State             ...</td>\n",
       "      <td>State                Region\n",
       "2139  ...</td>\n",
       "      <td>State                     ...</td>\n",
       "      <td>State                 Region\n",
       "9...</td>\n",
       "    </tr>\n",
       "  </tbody>\n",
       "</table>\n",
       "</div>"
      ],
      "text/plain": [
       "                                      Retail & recreation  \\\n",
       "mean                                             -37.5904   \n",
       "median                                                -38   \n",
       "max     State        South Carolina: 133.0\n",
       "Region    O...   \n",
       "min                    State                     Regio...   \n",
       "\n",
       "                                       Grocery & pharmacy  \\\n",
       "mean                                             -15.9872   \n",
       "median                                                -16   \n",
       "max     State     South Carolina: 128.0\n",
       "Region     Mar...   \n",
       "min                    State                Region\n",
       "919...   \n",
       "\n",
       "                                                    Parks  \\\n",
       "mean                                             -16.3728   \n",
       "median                                                -31   \n",
       "max     State           Georgia: 214.0\n",
       "Region    Gordo...   \n",
       "min                    State               Region\n",
       "892 ...   \n",
       "\n",
       "                                         Transit stations  \\\n",
       "mean                                             -4.96491   \n",
       "median                                                 -6   \n",
       "max     State         Illinois: 9.0\n",
       "Region    Clark Co...   \n",
       "min                                 State             ...   \n",
       "\n",
       "                                               Workplaces  \\\n",
       "mean                                             -30.8457   \n",
       "median                                                -31   \n",
       "max     State         Illinois: 3.0\n",
       "Region    Boone Co...   \n",
       "min                 State                Region\n",
       "2139  ...   \n",
       "\n",
       "                                              Residential  \\\n",
       "mean                                              10.7539   \n",
       "median                                                 12   \n",
       "max     State           Illinois: 30.0\n",
       "Region    Hanco...   \n",
       "min                         State                     ...   \n",
       "\n",
       "                                                    total  \n",
       "mean                                             -82.1036  \n",
       "median                                                -79  \n",
       "max     State         South Carolina: 137.0\n",
       "Region    ...  \n",
       "min                     State                 Region\n",
       "9...  "
      ]
     },
     "execution_count": 12,
     "metadata": {},
     "output_type": "execute_result"
    }
   ],
   "source": [
    "sum_df = summary_stats(df)\n",
    "sum_df.head()"
   ]
  }
 ],
 "metadata": {
  "kernelspec": {
   "display_name": "Python (covid-env)",
   "language": "python",
   "name": "covid-env"
  },
  "language_info": {
   "codemirror_mode": {
    "name": "ipython",
    "version": 3
   },
   "file_extension": ".py",
   "mimetype": "text/x-python",
   "name": "python",
   "nbconvert_exporter": "python",
   "pygments_lexer": "ipython3",
   "version": "3.8.2"
  }
 },
 "nbformat": 4,
 "nbformat_minor": 2
}
